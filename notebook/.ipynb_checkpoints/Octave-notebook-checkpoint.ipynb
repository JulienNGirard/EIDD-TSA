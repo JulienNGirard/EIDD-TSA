{
 "cells": [
  {
   "cell_type": "markdown",
   "metadata": {},
   "source": [
    "## Bienvenue !\n",
    "\n",
    "Ce notebook est **interactif**.\n",
    "\n",
    "Il s'agit d'un **notebook Octave hebergé en ligne** et qui est **modifiable**.\n",
    "\n",
    "Vous pouvez executer chaque cellule avec le bouton **Executer** ou plus simple avec le raccourci **Maj+↲**\n",
    "\n",
    "Certaines cellules contiennent du code, d'autres, du texte.\n",
    "Vous pouvez donc modifier toutes les cellules pour vos tests sans risquer quoi que ce soit pour vous ou pour les autres utilisateurs. Vous pourrez toujours recharger le lien pour repartir à zéro. Vous pouvez télécharger le notebook ou l'exporter en PDF.\n",
    "\n",
    "---------\n",
    "Version du 07/10/2020\n",
    "\n",
    "Paquets installés: control, signal, image\n",
    "\n",
    "Questions? julien.girard@cea.fr"
   ]
  },
  {
   "cell_type": "markdown",
   "metadata": {},
   "source": [
    "-----"
   ]
  },
  {
   "cell_type": "code",
   "execution_count": 16,
   "metadata": {},
   "outputs": [],
   "source": [
    "% Ceci est une cellule de type \"Code\" permettant d'écrire et d'éxecuter du code.\n",
    "% Le code suivant est nécessaire pour charger les paquets Octaves nécessaires.\n",
    "pkg load signal;\n",
    "pkg load image;"
   ]
  },
  {
   "cell_type": "markdown",
   "metadata": {},
   "source": [
    "#### Ceci est une cellule de type \"Markdown\" modifiable par double clic"
   ]
  },
  {
   "cell_type": "markdown",
   "metadata": {},
   "source": [
    "Ceci est une autre cellule de type \"Markdown\" pour taper du texte, tout en prenant en charge des formules comme $1/\\sqrt{1+x^2}$."
   ]
  },
  {
   "cell_type": "code",
   "execution_count": 14,
   "metadata": {},
   "outputs": [
    {
     "data": {
      "image/png": "[encoded data removed]",
      "text/plain": [
       "<IPython.core.display.Image object>"
      ]
     },
     "metadata": {},
     "output_type": "display_data"
    }
   ],
   "source": [
    "x=0:2:100;\n",
    "y1=x.^2;\n",
    "y2=sqrt(x);\n",
    "\n",
    "subplot(2,1,1)\n",
    "plot(x,y)\n",
    "title('Exemple de fonction carre')\n",
    "xlabel('x')\n",
    "ylabel('y')\n",
    "subplot(2,1,2)\n",
    "plot(x,y2)\n",
    "title('Exemple de fonction racine')\n",
    "xlabel('x')\n",
    "ylabel('y')"
   ]
  }
 ],
 "metadata": {
  "kernelspec": {
   "display_name": "Octave",
   "language": "octave",
   "name": "octave"
  },
  "language_info": {
   "file_extension": ".m",
   "help_links": [
    {
     "text": "GNU Octave",
     "url": "https://www.gnu.org/software/octave/support.html"
    },
    {
     "text": "Octave Kernel",
     "url": "https://github.com/Calysto/octave_kernel"
    },
    {
     "text": "MetaKernel Magics",
     "url": "https://metakernel.readthedocs.io/en/latest/source/README.html"
    }
   ],
   "mimetype": "text/x-octave",
   "name": "octave",
   "version": "4.4.1"
  }
 },
 "nbformat": 4,
 "nbformat_minor": 2
}
